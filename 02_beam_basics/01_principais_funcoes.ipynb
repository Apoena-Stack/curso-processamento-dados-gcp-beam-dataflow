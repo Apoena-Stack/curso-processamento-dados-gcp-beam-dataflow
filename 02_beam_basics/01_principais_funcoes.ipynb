{
 "cells": [
  {
   "attachments": {},
   "cell_type": "markdown",
   "metadata": {},
   "source": [
    "# Iniciando com Apache Beam"
   ]
  },
  {
   "cell_type": "code",
   "execution_count": 1,
   "metadata": {},
   "outputs": [
    {
     "name": "stdout",
     "output_type": "stream",
     "text": [
      "Requirement already satisfied: apache-beam[interactive] in c:\\users\\iuryl\\appdata\\local\\packages\\pythonsoftwarefoundation.python.3.11_qbz5n2kfra8p0\\localcache\\local-packages\\python311\\site-packages (2.58.1)\n",
      "Requirement already satisfied: crcmod<2.0,>=1.7 in c:\\users\\iuryl\\appdata\\local\\packages\\pythonsoftwarefoundation.python.3.11_qbz5n2kfra8p0\\localcache\\local-packages\\python311\\site-packages (from apache-beam[interactive]) (1.7)\n",
      "Requirement already satisfied: orjson<4,>=3.9.7 in c:\\users\\iuryl\\appdata\\local\\packages\\pythonsoftwarefoundation.python.3.11_qbz5n2kfra8p0\\localcache\\local-packages\\python311\\site-packages (from apache-beam[interactive]) (3.10.7)\n",
      "Requirement already satisfied: dill<0.3.2,>=0.3.1.1 in c:\\users\\iuryl\\appdata\\local\\packages\\pythonsoftwarefoundation.python.3.11_qbz5n2kfra8p0\\localcache\\local-packages\\python311\\site-packages (from apache-beam[interactive]) (0.3.1.1)\n",
      "Requirement already satisfied: cloudpickle~=2.2.1 in c:\\users\\iuryl\\appdata\\local\\packages\\pythonsoftwarefoundation.python.3.11_qbz5n2kfra8p0\\localcache\\local-packages\\python311\\site-packages (from apache-beam[interactive]) (2.2.1)\n",
      "Requirement already satisfied: fastavro<2,>=0.23.6 in c:\\users\\iuryl\\appdata\\local\\packages\\pythonsoftwarefoundation.python.3.11_qbz5n2kfra8p0\\localcache\\local-packages\\python311\\site-packages (from apache-beam[interactive]) (1.9.7)\n",
      "Requirement already satisfied: fasteners<1.0,>=0.3 in c:\\users\\iuryl\\appdata\\local\\packages\\pythonsoftwarefoundation.python.3.11_qbz5n2kfra8p0\\localcache\\local-packages\\python311\\site-packages (from apache-beam[interactive]) (0.19)\n",
      "Requirement already satisfied: grpcio!=1.48.0,!=1.59.*,!=1.60.*,!=1.61.*,!=1.62.0,!=1.62.1,<2,>=1.33.1 in c:\\users\\iuryl\\appdata\\local\\packages\\pythonsoftwarefoundation.python.3.11_qbz5n2kfra8p0\\localcache\\local-packages\\python311\\site-packages (from apache-beam[interactive]) (1.63.0)\n",
      "Requirement already satisfied: hdfs<3.0.0,>=2.1.0 in c:\\users\\iuryl\\appdata\\local\\packages\\pythonsoftwarefoundation.python.3.11_qbz5n2kfra8p0\\localcache\\local-packages\\python311\\site-packages (from apache-beam[interactive]) (2.7.3)\n",
      "Requirement already satisfied: httplib2<0.23.0,>=0.8 in c:\\users\\iuryl\\appdata\\local\\packages\\pythonsoftwarefoundation.python.3.11_qbz5n2kfra8p0\\localcache\\local-packages\\python311\\site-packages (from apache-beam[interactive]) (0.22.0)\n",
      "Requirement already satisfied: jsonschema<5.0.0,>=4.0.0 in c:\\users\\iuryl\\appdata\\local\\packages\\pythonsoftwarefoundation.python.3.11_qbz5n2kfra8p0\\localcache\\local-packages\\python311\\site-packages (from apache-beam[interactive]) (4.23.0)\n",
      "Requirement already satisfied: jsonpickle<4.0.0,>=3.0.0 in c:\\users\\iuryl\\appdata\\local\\packages\\pythonsoftwarefoundation.python.3.11_qbz5n2kfra8p0\\localcache\\local-packages\\python311\\site-packages (from apache-beam[interactive]) (3.3.0)\n",
      "Requirement already satisfied: numpy<1.27.0,>=1.14.3 in c:\\users\\iuryl\\appdata\\local\\packages\\pythonsoftwarefoundation.python.3.11_qbz5n2kfra8p0\\localcache\\local-packages\\python311\\site-packages (from apache-beam[interactive]) (1.26.4)\n",
      "Requirement already satisfied: objsize<0.8.0,>=0.6.1 in c:\\users\\iuryl\\appdata\\local\\packages\\pythonsoftwarefoundation.python.3.11_qbz5n2kfra8p0\\localcache\\local-packages\\python311\\site-packages (from apache-beam[interactive]) (0.7.0)\n",
      "Requirement already satisfied: packaging>=22.0 in c:\\users\\iuryl\\appdata\\local\\packages\\pythonsoftwarefoundation.python.3.11_qbz5n2kfra8p0\\localcache\\local-packages\\python311\\site-packages (from apache-beam[interactive]) (24.0)\n",
      "Requirement already satisfied: pymongo<5.0.0,>=3.8.0 in c:\\users\\iuryl\\appdata\\local\\packages\\pythonsoftwarefoundation.python.3.11_qbz5n2kfra8p0\\localcache\\local-packages\\python311\\site-packages (from apache-beam[interactive]) (4.8.0)\n",
      "Requirement already satisfied: proto-plus<2,>=1.7.1 in c:\\users\\iuryl\\appdata\\local\\packages\\pythonsoftwarefoundation.python.3.11_qbz5n2kfra8p0\\localcache\\local-packages\\python311\\site-packages (from apache-beam[interactive]) (1.24.0)\n",
      "Requirement already satisfied: protobuf!=4.0.*,!=4.21.*,!=4.22.0,!=4.23.*,!=4.24.*,<4.26.0,>=3.20.3 in c:\\users\\iuryl\\appdata\\local\\packages\\pythonsoftwarefoundation.python.3.11_qbz5n2kfra8p0\\localcache\\local-packages\\python311\\site-packages (from apache-beam[interactive]) (4.25.4)\n",
      "Requirement already satisfied: pydot<2,>=1.2.0 in c:\\users\\iuryl\\appdata\\local\\packages\\pythonsoftwarefoundation.python.3.11_qbz5n2kfra8p0\\localcache\\local-packages\\python311\\site-packages (from apache-beam[interactive]) (1.4.2)\n",
      "Requirement already satisfied: python-dateutil<3,>=2.8.0 in c:\\users\\iuryl\\appdata\\local\\packages\\pythonsoftwarefoundation.python.3.11_qbz5n2kfra8p0\\localcache\\local-packages\\python311\\site-packages (from apache-beam[interactive]) (2.9.0.post0)\n",
      "Requirement already satisfied: pytz>=2018.3 in c:\\users\\iuryl\\appdata\\local\\packages\\pythonsoftwarefoundation.python.3.11_qbz5n2kfra8p0\\localcache\\local-packages\\python311\\site-packages (from apache-beam[interactive]) (2024.1)\n",
      "Requirement already satisfied: redis<6,>=5.0.0 in c:\\users\\iuryl\\appdata\\local\\packages\\pythonsoftwarefoundation.python.3.11_qbz5n2kfra8p0\\localcache\\local-packages\\python311\\site-packages (from apache-beam[interactive]) (5.0.8)\n",
      "Requirement already satisfied: regex>=2020.6.8 in c:\\users\\iuryl\\appdata\\local\\packages\\pythonsoftwarefoundation.python.3.11_qbz5n2kfra8p0\\localcache\\local-packages\\python311\\site-packages (from apache-beam[interactive]) (2024.7.24)\n",
      "Requirement already satisfied: requests!=2.32.*,<3.0.0,>=2.24.0 in c:\\users\\iuryl\\appdata\\local\\packages\\pythonsoftwarefoundation.python.3.11_qbz5n2kfra8p0\\localcache\\local-packages\\python311\\site-packages (from apache-beam[interactive]) (2.31.0)\n",
      "Requirement already satisfied: typing-extensions>=3.7.0 in c:\\users\\iuryl\\appdata\\local\\packages\\pythonsoftwarefoundation.python.3.11_qbz5n2kfra8p0\\localcache\\local-packages\\python311\\site-packages (from apache-beam[interactive]) (4.11.0)\n",
      "Requirement already satisfied: zstandard<1,>=0.18.0 in c:\\users\\iuryl\\appdata\\local\\packages\\pythonsoftwarefoundation.python.3.11_qbz5n2kfra8p0\\localcache\\local-packages\\python311\\site-packages (from apache-beam[interactive]) (0.23.0)\n",
      "Requirement already satisfied: pyarrow<17.0.0,>=3.0.0 in c:\\users\\iuryl\\appdata\\local\\packages\\pythonsoftwarefoundation.python.3.11_qbz5n2kfra8p0\\localcache\\local-packages\\python311\\site-packages (from apache-beam[interactive]) (16.1.0)\n",
      "Requirement already satisfied: pyarrow-hotfix<1 in c:\\users\\iuryl\\appdata\\local\\packages\\pythonsoftwarefoundation.python.3.11_qbz5n2kfra8p0\\localcache\\local-packages\\python311\\site-packages (from apache-beam[interactive]) (0.6)\n",
      "Requirement already satisfied: js2py<1,>=0.74 in c:\\users\\iuryl\\appdata\\local\\packages\\pythonsoftwarefoundation.python.3.11_qbz5n2kfra8p0\\localcache\\local-packages\\python311\\site-packages (from apache-beam[interactive]) (0.74)\n",
      "Requirement already satisfied: facets-overview<2,>=1.1.0 in c:\\users\\iuryl\\appdata\\local\\packages\\pythonsoftwarefoundation.python.3.11_qbz5n2kfra8p0\\localcache\\local-packages\\python311\\site-packages (from apache-beam[interactive]) (1.1.1)\n",
      "Requirement already satisfied: google-cloud-dataproc<6,>=5.0.0 in c:\\users\\iuryl\\appdata\\local\\packages\\pythonsoftwarefoundation.python.3.11_qbz5n2kfra8p0\\localcache\\local-packages\\python311\\site-packages (from apache-beam[interactive]) (5.11.0)\n",
      "Requirement already satisfied: ipython<9,>=8 in c:\\users\\iuryl\\appdata\\local\\packages\\pythonsoftwarefoundation.python.3.11_qbz5n2kfra8p0\\localcache\\local-packages\\python311\\site-packages (from apache-beam[interactive]) (8.24.0)\n",
      "Requirement already satisfied: ipykernel<7,>=6 in c:\\users\\iuryl\\appdata\\local\\packages\\pythonsoftwarefoundation.python.3.11_qbz5n2kfra8p0\\localcache\\local-packages\\python311\\site-packages (from apache-beam[interactive]) (6.29.4)\n",
      "Requirement already satisfied: ipywidgets<9,>=8 in c:\\users\\iuryl\\appdata\\local\\packages\\pythonsoftwarefoundation.python.3.11_qbz5n2kfra8p0\\localcache\\local-packages\\python311\\site-packages (from apache-beam[interactive]) (8.1.5)\n",
      "Requirement already satisfied: jupyter-client!=6.1.13,<8.2.1,>=6.1.11 in c:\\users\\iuryl\\appdata\\local\\packages\\pythonsoftwarefoundation.python.3.11_qbz5n2kfra8p0\\localcache\\local-packages\\python311\\site-packages (from apache-beam[interactive]) (8.2.0)\n",
      "Requirement already satisfied: timeloop<2,>=1.0.2 in c:\\users\\iuryl\\appdata\\local\\packages\\pythonsoftwarefoundation.python.3.11_qbz5n2kfra8p0\\localcache\\local-packages\\python311\\site-packages (from apache-beam[interactive]) (1.0.2)\n",
      "Requirement already satisfied: nbformat<6,>=5.0.5 in c:\\users\\iuryl\\appdata\\local\\packages\\pythonsoftwarefoundation.python.3.11_qbz5n2kfra8p0\\localcache\\local-packages\\python311\\site-packages (from apache-beam[interactive]) (5.10.4)\n",
      "Requirement already satisfied: nbconvert<8,>=6.2.0 in c:\\users\\iuryl\\appdata\\local\\packages\\pythonsoftwarefoundation.python.3.11_qbz5n2kfra8p0\\localcache\\local-packages\\python311\\site-packages (from apache-beam[interactive]) (7.16.4)\n",
      "Requirement already satisfied: pandas!=1.5.0,!=1.5.1,<2.2,>=1.4.3 in c:\\users\\iuryl\\appdata\\local\\packages\\pythonsoftwarefoundation.python.3.11_qbz5n2kfra8p0\\localcache\\local-packages\\python311\\site-packages (from apache-beam[interactive]) (2.1.4)\n",
      "Requirement already satisfied: google-api-core!=2.0.*,!=2.1.*,!=2.10.*,!=2.2.*,!=2.3.*,!=2.4.*,!=2.5.*,!=2.6.*,!=2.7.*,!=2.8.*,!=2.9.*,<3.0.0dev,>=1.34.1 in c:\\users\\iuryl\\appdata\\local\\packages\\pythonsoftwarefoundation.python.3.11_qbz5n2kfra8p0\\localcache\\local-packages\\python311\\site-packages (from google-api-core[grpc]!=2.0.*,!=2.1.*,!=2.10.*,!=2.2.*,!=2.3.*,!=2.4.*,!=2.5.*,!=2.6.*,!=2.7.*,!=2.8.*,!=2.9.*,<3.0.0dev,>=1.34.1->google-cloud-dataproc<6,>=5.0.0->apache-beam[interactive]) (2.19.2)\n",
      "Requirement already satisfied: google-auth!=2.24.0,!=2.25.0,<3.0.0dev,>=2.14.1 in c:\\users\\iuryl\\appdata\\local\\packages\\pythonsoftwarefoundation.python.3.11_qbz5n2kfra8p0\\localcache\\local-packages\\python311\\site-packages (from google-cloud-dataproc<6,>=5.0.0->apache-beam[interactive]) (2.34.0)\n",
      "Requirement already satisfied: grpc-google-iam-v1<1.0.0dev,>=0.12.4 in c:\\users\\iuryl\\appdata\\local\\packages\\pythonsoftwarefoundation.python.3.11_qbz5n2kfra8p0\\localcache\\local-packages\\python311\\site-packages (from google-cloud-dataproc<6,>=5.0.0->apache-beam[interactive]) (0.13.1)\n",
      "Requirement already satisfied: docopt in c:\\users\\iuryl\\appdata\\local\\packages\\pythonsoftwarefoundation.python.3.11_qbz5n2kfra8p0\\localcache\\local-packages\\python311\\site-packages (from hdfs<3.0.0,>=2.1.0->apache-beam[interactive]) (0.6.2)\n",
      "Requirement already satisfied: six>=1.9.0 in c:\\users\\iuryl\\appdata\\local\\packages\\pythonsoftwarefoundation.python.3.11_qbz5n2kfra8p0\\localcache\\local-packages\\python311\\site-packages (from hdfs<3.0.0,>=2.1.0->apache-beam[interactive]) (1.16.0)\n",
      "Requirement already satisfied: pyparsing!=3.0.0,!=3.0.1,!=3.0.2,!=3.0.3,<4,>=2.4.2 in c:\\users\\iuryl\\appdata\\local\\packages\\pythonsoftwarefoundation.python.3.11_qbz5n2kfra8p0\\localcache\\local-packages\\python311\\site-packages (from httplib2<0.23.0,>=0.8->apache-beam[interactive]) (3.1.2)\n",
      "Requirement already satisfied: comm>=0.1.1 in c:\\users\\iuryl\\appdata\\local\\packages\\pythonsoftwarefoundation.python.3.11_qbz5n2kfra8p0\\localcache\\local-packages\\python311\\site-packages (from ipykernel<7,>=6->apache-beam[interactive]) (0.2.2)\n",
      "Requirement already satisfied: debugpy>=1.6.5 in c:\\users\\iuryl\\appdata\\local\\packages\\pythonsoftwarefoundation.python.3.11_qbz5n2kfra8p0\\localcache\\local-packages\\python311\\site-packages (from ipykernel<7,>=6->apache-beam[interactive]) (1.8.1)\n",
      "Requirement already satisfied: jupyter-core!=5.0.*,>=4.12 in c:\\users\\iuryl\\appdata\\local\\packages\\pythonsoftwarefoundation.python.3.11_qbz5n2kfra8p0\\localcache\\local-packages\\python311\\site-packages (from ipykernel<7,>=6->apache-beam[interactive]) (5.7.2)\n",
      "Requirement already satisfied: matplotlib-inline>=0.1 in c:\\users\\iuryl\\appdata\\local\\packages\\pythonsoftwarefoundation.python.3.11_qbz5n2kfra8p0\\localcache\\local-packages\\python311\\site-packages (from ipykernel<7,>=6->apache-beam[interactive]) (0.1.7)\n",
      "Requirement already satisfied: nest-asyncio in c:\\users\\iuryl\\appdata\\local\\packages\\pythonsoftwarefoundation.python.3.11_qbz5n2kfra8p0\\localcache\\local-packages\\python311\\site-packages (from ipykernel<7,>=6->apache-beam[interactive]) (1.6.0)\n",
      "Requirement already satisfied: psutil in c:\\users\\iuryl\\appdata\\local\\packages\\pythonsoftwarefoundation.python.3.11_qbz5n2kfra8p0\\localcache\\local-packages\\python311\\site-packages (from ipykernel<7,>=6->apache-beam[interactive]) (5.9.8)\n",
      "Requirement already satisfied: pyzmq>=24 in c:\\users\\iuryl\\appdata\\local\\packages\\pythonsoftwarefoundation.python.3.11_qbz5n2kfra8p0\\localcache\\local-packages\\python311\\site-packages (from ipykernel<7,>=6->apache-beam[interactive]) (26.0.3)\n",
      "Requirement already satisfied: tornado>=6.1 in c:\\users\\iuryl\\appdata\\local\\packages\\pythonsoftwarefoundation.python.3.11_qbz5n2kfra8p0\\localcache\\local-packages\\python311\\site-packages (from ipykernel<7,>=6->apache-beam[interactive]) (6.4)\n",
      "Requirement already satisfied: traitlets>=5.4.0 in c:\\users\\iuryl\\appdata\\local\\packages\\pythonsoftwarefoundation.python.3.11_qbz5n2kfra8p0\\localcache\\local-packages\\python311\\site-packages (from ipykernel<7,>=6->apache-beam[interactive]) (5.14.3)\n",
      "Requirement already satisfied: decorator in c:\\users\\iuryl\\appdata\\local\\packages\\pythonsoftwarefoundation.python.3.11_qbz5n2kfra8p0\\localcache\\local-packages\\python311\\site-packages (from ipython<9,>=8->apache-beam[interactive]) (5.1.1)\n",
      "Requirement already satisfied: jedi>=0.16 in c:\\users\\iuryl\\appdata\\local\\packages\\pythonsoftwarefoundation.python.3.11_qbz5n2kfra8p0\\localcache\\local-packages\\python311\\site-packages (from ipython<9,>=8->apache-beam[interactive]) (0.19.1)\n",
      "Requirement already satisfied: prompt-toolkit<3.1.0,>=3.0.41 in c:\\users\\iuryl\\appdata\\local\\packages\\pythonsoftwarefoundation.python.3.11_qbz5n2kfra8p0\\localcache\\local-packages\\python311\\site-packages (from ipython<9,>=8->apache-beam[interactive]) (3.0.43)\n",
      "Requirement already satisfied: pygments>=2.4.0 in c:\\users\\iuryl\\appdata\\local\\packages\\pythonsoftwarefoundation.python.3.11_qbz5n2kfra8p0\\localcache\\local-packages\\python311\\site-packages (from ipython<9,>=8->apache-beam[interactive]) (2.18.0)\n",
      "Requirement already satisfied: stack-data in c:\\users\\iuryl\\appdata\\local\\packages\\pythonsoftwarefoundation.python.3.11_qbz5n2kfra8p0\\localcache\\local-packages\\python311\\site-packages (from ipython<9,>=8->apache-beam[interactive]) (0.6.3)\n",
      "Requirement already satisfied: colorama in c:\\users\\iuryl\\appdata\\local\\packages\\pythonsoftwarefoundation.python.3.11_qbz5n2kfra8p0\\localcache\\local-packages\\python311\\site-packages (from ipython<9,>=8->apache-beam[interactive]) (0.4.6)\n",
      "Requirement already satisfied: widgetsnbextension~=4.0.12 in c:\\users\\iuryl\\appdata\\local\\packages\\pythonsoftwarefoundation.python.3.11_qbz5n2kfra8p0\\localcache\\local-packages\\python311\\site-packages (from ipywidgets<9,>=8->apache-beam[interactive]) (4.0.13)\n",
      "Requirement already satisfied: jupyterlab-widgets~=3.0.12 in c:\\users\\iuryl\\appdata\\local\\packages\\pythonsoftwarefoundation.python.3.11_qbz5n2kfra8p0\\localcache\\local-packages\\python311\\site-packages (from ipywidgets<9,>=8->apache-beam[interactive]) (3.0.13)\n",
      "Requirement already satisfied: tzlocal>=1.2 in c:\\users\\iuryl\\appdata\\local\\packages\\pythonsoftwarefoundation.python.3.11_qbz5n2kfra8p0\\localcache\\local-packages\\python311\\site-packages (from js2py<1,>=0.74->apache-beam[interactive]) (5.2)\n",
      "Requirement already satisfied: pyjsparser>=2.5.1 in c:\\users\\iuryl\\appdata\\local\\packages\\pythonsoftwarefoundation.python.3.11_qbz5n2kfra8p0\\localcache\\local-packages\\python311\\site-packages (from js2py<1,>=0.74->apache-beam[interactive]) (2.7.1)\n",
      "Requirement already satisfied: attrs>=22.2.0 in c:\\users\\iuryl\\appdata\\local\\packages\\pythonsoftwarefoundation.python.3.11_qbz5n2kfra8p0\\localcache\\local-packages\\python311\\site-packages (from jsonschema<5.0.0,>=4.0.0->apache-beam[interactive]) (23.2.0)\n",
      "Requirement already satisfied: jsonschema-specifications>=2023.03.6 in c:\\users\\iuryl\\appdata\\local\\packages\\pythonsoftwarefoundation.python.3.11_qbz5n2kfra8p0\\localcache\\local-packages\\python311\\site-packages (from jsonschema<5.0.0,>=4.0.0->apache-beam[interactive]) (2023.12.1)\n",
      "Requirement already satisfied: referencing>=0.28.4 in c:\\users\\iuryl\\appdata\\local\\packages\\pythonsoftwarefoundation.python.3.11_qbz5n2kfra8p0\\localcache\\local-packages\\python311\\site-packages (from jsonschema<5.0.0,>=4.0.0->apache-beam[interactive]) (0.35.1)\n",
      "Requirement already satisfied: rpds-py>=0.7.1 in c:\\users\\iuryl\\appdata\\local\\packages\\pythonsoftwarefoundation.python.3.11_qbz5n2kfra8p0\\localcache\\local-packages\\python311\\site-packages (from jsonschema<5.0.0,>=4.0.0->apache-beam[interactive]) (0.20.0)\n",
      "Requirement already satisfied: beautifulsoup4 in c:\\users\\iuryl\\appdata\\local\\packages\\pythonsoftwarefoundation.python.3.11_qbz5n2kfra8p0\\localcache\\local-packages\\python311\\site-packages (from nbconvert<8,>=6.2.0->apache-beam[interactive]) (4.12.3)\n",
      "Requirement already satisfied: bleach!=5.0.0 in c:\\users\\iuryl\\appdata\\local\\packages\\pythonsoftwarefoundation.python.3.11_qbz5n2kfra8p0\\localcache\\local-packages\\python311\\site-packages (from nbconvert<8,>=6.2.0->apache-beam[interactive]) (6.1.0)\n",
      "Requirement already satisfied: defusedxml in c:\\users\\iuryl\\appdata\\local\\packages\\pythonsoftwarefoundation.python.3.11_qbz5n2kfra8p0\\localcache\\local-packages\\python311\\site-packages (from nbconvert<8,>=6.2.0->apache-beam[interactive]) (0.7.1)\n",
      "Requirement already satisfied: jinja2>=3.0 in c:\\users\\iuryl\\appdata\\local\\packages\\pythonsoftwarefoundation.python.3.11_qbz5n2kfra8p0\\localcache\\local-packages\\python311\\site-packages (from nbconvert<8,>=6.2.0->apache-beam[interactive]) (3.1.4)\n",
      "Requirement already satisfied: jupyterlab-pygments in c:\\users\\iuryl\\appdata\\local\\packages\\pythonsoftwarefoundation.python.3.11_qbz5n2kfra8p0\\localcache\\local-packages\\python311\\site-packages (from nbconvert<8,>=6.2.0->apache-beam[interactive]) (0.3.0)\n",
      "Requirement already satisfied: markupsafe>=2.0 in c:\\users\\iuryl\\appdata\\local\\packages\\pythonsoftwarefoundation.python.3.11_qbz5n2kfra8p0\\localcache\\local-packages\\python311\\site-packages (from nbconvert<8,>=6.2.0->apache-beam[interactive]) (2.1.5)\n",
      "Requirement already satisfied: mistune<4,>=2.0.3 in c:\\users\\iuryl\\appdata\\local\\packages\\pythonsoftwarefoundation.python.3.11_qbz5n2kfra8p0\\localcache\\local-packages\\python311\\site-packages (from nbconvert<8,>=6.2.0->apache-beam[interactive]) (3.0.2)\n",
      "Requirement already satisfied: nbclient>=0.5.0 in c:\\users\\iuryl\\appdata\\local\\packages\\pythonsoftwarefoundation.python.3.11_qbz5n2kfra8p0\\localcache\\local-packages\\python311\\site-packages (from nbconvert<8,>=6.2.0->apache-beam[interactive]) (0.10.0)\n",
      "Requirement already satisfied: pandocfilters>=1.4.1 in c:\\users\\iuryl\\appdata\\local\\packages\\pythonsoftwarefoundation.python.3.11_qbz5n2kfra8p0\\localcache\\local-packages\\python311\\site-packages (from nbconvert<8,>=6.2.0->apache-beam[interactive]) (1.5.1)\n",
      "Requirement already satisfied: tinycss2 in c:\\users\\iuryl\\appdata\\local\\packages\\pythonsoftwarefoundation.python.3.11_qbz5n2kfra8p0\\localcache\\local-packages\\python311\\site-packages (from nbconvert<8,>=6.2.0->apache-beam[interactive]) (1.3.0)\n",
      "Requirement already satisfied: fastjsonschema>=2.15 in c:\\users\\iuryl\\appdata\\local\\packages\\pythonsoftwarefoundation.python.3.11_qbz5n2kfra8p0\\localcache\\local-packages\\python311\\site-packages (from nbformat<6,>=5.0.5->apache-beam[interactive]) (2.20.0)\n",
      "Requirement already satisfied: tzdata>=2022.1 in c:\\users\\iuryl\\appdata\\local\\packages\\pythonsoftwarefoundation.python.3.11_qbz5n2kfra8p0\\localcache\\local-packages\\python311\\site-packages (from pandas!=1.5.0,!=1.5.1,<2.2,>=1.4.3->apache-beam[interactive]) (2024.1)\n",
      "Requirement already satisfied: dnspython<3.0.0,>=1.16.0 in c:\\users\\iuryl\\appdata\\local\\packages\\pythonsoftwarefoundation.python.3.11_qbz5n2kfra8p0\\localcache\\local-packages\\python311\\site-packages (from pymongo<5.0.0,>=3.8.0->apache-beam[interactive]) (2.6.1)\n",
      "Requirement already satisfied: charset-normalizer<4,>=2 in c:\\users\\iuryl\\appdata\\local\\packages\\pythonsoftwarefoundation.python.3.11_qbz5n2kfra8p0\\localcache\\local-packages\\python311\\site-packages (from requests!=2.32.*,<3.0.0,>=2.24.0->apache-beam[interactive]) (3.3.2)\n",
      "Requirement already satisfied: idna<4,>=2.5 in c:\\users\\iuryl\\appdata\\local\\packages\\pythonsoftwarefoundation.python.3.11_qbz5n2kfra8p0\\localcache\\local-packages\\python311\\site-packages (from requests!=2.32.*,<3.0.0,>=2.24.0->apache-beam[interactive]) (3.7)\n",
      "Requirement already satisfied: urllib3<3,>=1.21.1 in c:\\users\\iuryl\\appdata\\local\\packages\\pythonsoftwarefoundation.python.3.11_qbz5n2kfra8p0\\localcache\\local-packages\\python311\\site-packages (from requests!=2.32.*,<3.0.0,>=2.24.0->apache-beam[interactive]) (2.2.1)\n",
      "Requirement already satisfied: certifi>=2017.4.17 in c:\\users\\iuryl\\appdata\\local\\packages\\pythonsoftwarefoundation.python.3.11_qbz5n2kfra8p0\\localcache\\local-packages\\python311\\site-packages (from requests!=2.32.*,<3.0.0,>=2.24.0->apache-beam[interactive]) (2024.2.2)\n",
      "Requirement already satisfied: webencodings in c:\\users\\iuryl\\appdata\\local\\packages\\pythonsoftwarefoundation.python.3.11_qbz5n2kfra8p0\\localcache\\local-packages\\python311\\site-packages (from bleach!=5.0.0->nbconvert<8,>=6.2.0->apache-beam[interactive]) (0.5.1)\n",
      "Requirement already satisfied: googleapis-common-protos<2.0.dev0,>=1.56.2 in c:\\users\\iuryl\\appdata\\local\\packages\\pythonsoftwarefoundation.python.3.11_qbz5n2kfra8p0\\localcache\\local-packages\\python311\\site-packages (from google-api-core!=2.0.*,!=2.1.*,!=2.10.*,!=2.2.*,!=2.3.*,!=2.4.*,!=2.5.*,!=2.6.*,!=2.7.*,!=2.8.*,!=2.9.*,<3.0.0dev,>=1.34.1->google-api-core[grpc]!=2.0.*,!=2.1.*,!=2.10.*,!=2.2.*,!=2.3.*,!=2.4.*,!=2.5.*,!=2.6.*,!=2.7.*,!=2.8.*,!=2.9.*,<3.0.0dev,>=1.34.1->google-cloud-dataproc<6,>=5.0.0->apache-beam[interactive]) (1.65.0)\n",
      "Requirement already satisfied: grpcio-status<2.0.dev0,>=1.33.2 in c:\\users\\iuryl\\appdata\\local\\packages\\pythonsoftwarefoundation.python.3.11_qbz5n2kfra8p0\\localcache\\local-packages\\python311\\site-packages (from google-api-core[grpc]!=2.0.*,!=2.1.*,!=2.10.*,!=2.2.*,!=2.3.*,!=2.4.*,!=2.5.*,!=2.6.*,!=2.7.*,!=2.8.*,!=2.9.*,<3.0.0dev,>=1.34.1->google-cloud-dataproc<6,>=5.0.0->apache-beam[interactive]) (1.62.3)\n",
      "Requirement already satisfied: cachetools<6.0,>=2.0.0 in c:\\users\\iuryl\\appdata\\local\\packages\\pythonsoftwarefoundation.python.3.11_qbz5n2kfra8p0\\localcache\\local-packages\\python311\\site-packages (from google-auth!=2.24.0,!=2.25.0,<3.0.0dev,>=2.14.1->google-cloud-dataproc<6,>=5.0.0->apache-beam[interactive]) (5.5.0)\n",
      "Requirement already satisfied: pyasn1-modules>=0.2.1 in c:\\users\\iuryl\\appdata\\local\\packages\\pythonsoftwarefoundation.python.3.11_qbz5n2kfra8p0\\localcache\\local-packages\\python311\\site-packages (from google-auth!=2.24.0,!=2.25.0,<3.0.0dev,>=2.14.1->google-cloud-dataproc<6,>=5.0.0->apache-beam[interactive]) (0.4.0)\n",
      "Requirement already satisfied: rsa<5,>=3.1.4 in c:\\users\\iuryl\\appdata\\local\\packages\\pythonsoftwarefoundation.python.3.11_qbz5n2kfra8p0\\localcache\\local-packages\\python311\\site-packages (from google-auth!=2.24.0,!=2.25.0,<3.0.0dev,>=2.14.1->google-cloud-dataproc<6,>=5.0.0->apache-beam[interactive]) (4.9)\n",
      "Requirement already satisfied: parso<0.9.0,>=0.8.3 in c:\\users\\iuryl\\appdata\\local\\packages\\pythonsoftwarefoundation.python.3.11_qbz5n2kfra8p0\\localcache\\local-packages\\python311\\site-packages (from jedi>=0.16->ipython<9,>=8->apache-beam[interactive]) (0.8.4)\n",
      "Requirement already satisfied: platformdirs>=2.5 in c:\\users\\iuryl\\appdata\\local\\packages\\pythonsoftwarefoundation.python.3.11_qbz5n2kfra8p0\\localcache\\local-packages\\python311\\site-packages (from jupyter-core!=5.0.*,>=4.12->ipykernel<7,>=6->apache-beam[interactive]) (4.2.2)\n",
      "Requirement already satisfied: pywin32>=300 in c:\\users\\iuryl\\appdata\\local\\packages\\pythonsoftwarefoundation.python.3.11_qbz5n2kfra8p0\\localcache\\local-packages\\python311\\site-packages (from jupyter-core!=5.0.*,>=4.12->ipykernel<7,>=6->apache-beam[interactive]) (306)\n",
      "Requirement already satisfied: wcwidth in c:\\users\\iuryl\\appdata\\local\\packages\\pythonsoftwarefoundation.python.3.11_qbz5n2kfra8p0\\localcache\\local-packages\\python311\\site-packages (from prompt-toolkit<3.1.0,>=3.0.41->ipython<9,>=8->apache-beam[interactive]) (0.2.13)\n",
      "Requirement already satisfied: soupsieve>1.2 in c:\\users\\iuryl\\appdata\\local\\packages\\pythonsoftwarefoundation.python.3.11_qbz5n2kfra8p0\\localcache\\local-packages\\python311\\site-packages (from beautifulsoup4->nbconvert<8,>=6.2.0->apache-beam[interactive]) (2.6)\n",
      "Requirement already satisfied: executing>=1.2.0 in c:\\users\\iuryl\\appdata\\local\\packages\\pythonsoftwarefoundation.python.3.11_qbz5n2kfra8p0\\localcache\\local-packages\\python311\\site-packages (from stack-data->ipython<9,>=8->apache-beam[interactive]) (2.0.1)\n",
      "Requirement already satisfied: asttokens>=2.1.0 in c:\\users\\iuryl\\appdata\\local\\packages\\pythonsoftwarefoundation.python.3.11_qbz5n2kfra8p0\\localcache\\local-packages\\python311\\site-packages (from stack-data->ipython<9,>=8->apache-beam[interactive]) (2.4.1)\n",
      "Requirement already satisfied: pure-eval in c:\\users\\iuryl\\appdata\\local\\packages\\pythonsoftwarefoundation.python.3.11_qbz5n2kfra8p0\\localcache\\local-packages\\python311\\site-packages (from stack-data->ipython<9,>=8->apache-beam[interactive]) (0.2.2)\n",
      "Requirement already satisfied: pyasn1<0.7.0,>=0.4.6 in c:\\users\\iuryl\\appdata\\local\\packages\\pythonsoftwarefoundation.python.3.11_qbz5n2kfra8p0\\localcache\\local-packages\\python311\\site-packages (from pyasn1-modules>=0.2.1->google-auth!=2.24.0,!=2.25.0,<3.0.0dev,>=2.14.1->google-cloud-dataproc<6,>=5.0.0->apache-beam[interactive]) (0.6.0)\n"
     ]
    },
    {
     "name": "stderr",
     "output_type": "stream",
     "text": [
      "\n",
      "[notice] A new release of pip is available: 24.0 -> 24.2\n",
      "[notice] To update, run: C:\\Users\\iuryl\\AppData\\Local\\Microsoft\\WindowsApps\\PythonSoftwareFoundation.Python.3.11_qbz5n2kfra8p0\\python.exe -m pip install --upgrade pip\n"
     ]
    }
   ],
   "source": [
    "!pip install apache-beam[interactive]"
   ]
  },
  {
   "attachments": {},
   "cell_type": "markdown",
   "metadata": {},
   "source": [
    "## Read / Write Transform"
   ]
  },
  {
   "attachments": {},
   "cell_type": "markdown",
   "metadata": {},
   "source": [
    "Para ler de uma fonte externa, você usa um dos adaptadores de E/S fornecidos pelo Beam. Os adaptadores variam em seu uso exato, mas todos eles leem de alguma fonte de dados externa e retornam uma PCollection cujos elementos representam os registros de dados naquela fonte.\n",
    "\n",
    "Cada adaptador de fonte de dados tem uma transformação Read; para ler, você deve aplicar essa transformação ao próprio objeto Pipeline.io.TextFileSource, por exemplo, lê de um arquivo de texto externo e retorna uma PCollection cujos elementos são do tipo String, onde cada String representa uma linha do arquivo de texto.\n",
    "\n",
    "Ref 01: https://beam.apache.org/documentation/io/connectors/\n",
    "\n",
    "Ref 02: https://beam.apache.org/documentation/programming-guide/#pipeline-io"
   ]
  },
  {
   "cell_type": "code",
   "execution_count": 6,
   "metadata": {},
   "outputs": [
    {
     "name": "stdout",
     "output_type": "stream",
     "text": [
      "1,Iury,10,T1,Mat\n",
      "2,Davi,8,T1,Mat\n",
      "3,Vini,6.7,T1,Mat\n",
      "4,Carol,5.4,T1,Mat\n",
      "5,Helena,7.8,T1,Mat\n",
      "6,Michel,7.7,T2,Mat\n",
      "7,Fernando,5.2,T2,Mat\n",
      "8,Gabriel,8.9,T2,Mat\n",
      "9,Carla,8.2,T2,Mat\n",
      "10,Pablo,10,T2,Mat\n",
      "11,Pedro,6.2,T2,Mat\n",
      "12,Emerson,2.1,T2,Mat\n",
      "13,Iury,9.2,T1,Port\n",
      "14,Davi,8.4,T1,Port\n",
      "15,Vini,7.8,T1,Port\n",
      "16,Carol,4.3,T1,Port\n",
      "17,Helena,6.2,T1,Port\n",
      "18,Michel,9.5,T2,Port\n",
      "19,Fernando,2.5,T2,Port\n",
      "20,Gabriel,9.0,T2,Port\n",
      "21,Carla,10,T2,Port\n",
      "22,Pablo,8.5,T2,Port\n",
      "23,Pedro,7.5,T2,Port\n",
      "24,Emerson,9.2,T2,Port\n"
     ]
    },
    {
     "data": {
      "text/plain": [
       "<apache_beam.runners.portability.fn_api_runner.fn_runner.RunnerResult at 0x18475272f10>"
      ]
     },
     "execution_count": 6,
     "metadata": {},
     "output_type": "execute_result"
    }
   ],
   "source": [
    "import apache_beam as beam\n",
    "\n",
    "p = beam.Pipeline()\n",
    "\n",
    "p | beam.io.ReadFromText(\"data_sample.txt\", skip_header_lines=1, strip_trailing_newlines=True) | beam.Map(print)\n",
    "\n",
    "p.run()"
   ]
  },
  {
   "attachments": {},
   "cell_type": "markdown",
   "metadata": {},
   "source": [
    "Para criar uma PCollection a partir de uma lista na memória, use a transformação Create fornecida pelo Beam. Aplique essa transformação diretamente ao seu próprio objeto Pipeline."
   ]
  },
  {
   "cell_type": "code",
   "execution_count": 9,
   "metadata": {},
   "outputs": [
    {
     "name": "stdout",
     "output_type": "stream",
     "text": [
      "(1, 2, 3)\n",
      "(4,)\n",
      "(5, 6)\n"
     ]
    },
    {
     "data": {
      "text/plain": [
       "<apache_beam.runners.portability.fn_api_runner.fn_runner.RunnerResult at 0x184752eaf10>"
      ]
     },
     "execution_count": 9,
     "metadata": {},
     "output_type": "execute_result"
    }
   ],
   "source": [
    "list_ints = [1, 2, 3, 4]\n",
    "\n",
    "dict_example = {\"key1\": 123, \"key2\": \"iury\"}\n",
    "\n",
    "tuples_of_tuples = ((1, 2, 3), (4, ), (5, 6))\n",
    "\n",
    "p = beam.Pipeline()\n",
    "\n",
    "p | beam.Create(tuples_of_tuples) | beam.Map(print)\n",
    "\n",
    "p.run()"
   ]
  },
  {
   "attachments": {},
   "cell_type": "markdown",
   "metadata": {},
   "source": [
    "Diferença entre ReadFromText e ReadAllFromText"
   ]
  },
  {
   "cell_type": "code",
   "execution_count": 10,
   "metadata": {},
   "outputs": [
    {
     "name": "stdout",
     "output_type": "stream",
     "text": [
      "ID,Nome,Nota,Turma,Disciplina\n",
      "1,Iury,10,T1,Mat\n",
      "2,Davi,8,T1,Mat\n",
      "3,Vini,6.7,T1,Mat\n",
      "4,Carol,5.4,T1,Mat\n",
      "5,Helena,7.8,T1,Mat\n",
      "6,Michel,7.7,T2,Mat\n",
      "7,Fernando,5.2,T2,Mat\n",
      "8,Gabriel,8.9,T2,Mat\n",
      "9,Carla,8.2,T2,Mat\n",
      "10,Pablo,10,T2,Mat\n",
      "11,Pedro,6.2,T2,Mat\n",
      "12,Emerson,2.1,T2,Mat\n",
      "13,Iury,9.2,T1,Port\n",
      "14,Davi,8.4,T1,Port\n",
      "15,Vini,7.8,T1,Port\n",
      "16,Carol,4.3,T1,Port\n",
      "17,Helena,6.2,T1,Port\n",
      "18,Michel,9.5,T2,Port\n",
      "19,Fernando,2.5,T2,Port\n",
      "20,Gabriel,9.0,T2,Port\n",
      "21,Carla,10,T2,Port\n",
      "22,Pablo,8.5,T2,Port\n",
      "23,Pedro,7.5,T2,Port\n",
      "24,Emerson,9.2,T2,Port\n"
     ]
    },
    {
     "data": {
      "text/plain": [
       "<apache_beam.runners.portability.fn_api_runner.fn_runner.RunnerResult at 0x18475265790>"
      ]
     },
     "execution_count": 10,
     "metadata": {},
     "output_type": "execute_result"
    }
   ],
   "source": [
    "p = beam.Pipeline()\n",
    "p | beam.io.ReadFromText(\"data_sample.txt\") | beam.Map(print)\n",
    "p.run()"
   ]
  },
  {
   "cell_type": "code",
   "execution_count": 12,
   "metadata": {},
   "outputs": [
    {
     "name": "stdout",
     "output_type": "stream",
     "text": [
      "ID,Nome,Nota,Turma,Disciplina\n",
      "1,Iury,10,T1,Mat\n",
      "2,Davi,8,T1,Mat\n",
      "3,Vini,6.7,T1,Mat\n",
      "4,Carol,5.4,T1,Mat\n",
      "5,Helena,7.8,T1,Mat\n",
      "6,Michel,7.7,T2,Mat\n",
      "7,Fernando,5.2,T2,Mat\n",
      "8,Gabriel,8.9,T2,Mat\n",
      "9,Carla,8.2,T2,Mat\n",
      "10,Pablo,10,T2,Mat\n",
      "11,Pedro,6.2,T2,Mat\n",
      "12,Emerson,2.1,T2,Mat\n",
      "13,Iury,9.2,T1,Port\n",
      "14,Davi,8.4,T1,Port\n",
      "15,Vini,7.8,T1,Port\n",
      "16,Carol,4.3,T1,Port\n",
      "17,Helena,6.2,T1,Port\n",
      "18,Michel,9.5,T2,Port\n",
      "19,Fernando,2.5,T2,Port\n",
      "20,Gabriel,9.0,T2,Port\n",
      "21,Carla,10,T2,Port\n",
      "22,Pablo,8.5,T2,Port\n",
      "23,Pedro,7.5,T2,Port\n",
      "24,Emerson,9.2,T2,Port\n",
      "ID,Nome,Nota,Turma,Disciplina\n",
      "1,Iury,10,T1,Mat\n",
      "2,Davi,8,T1,Mat\n",
      "3,Vini,6.7,T1,Mat\n",
      "4,Carol,5.4,T1,Mat\n",
      "5,Helena,7.8,T1,Mat\n",
      "6,Michel,7.7,T2,Mat\n",
      "7,Fernando,5.2,T2,Mat\n",
      "8,Gabriel,8.9,T2,Mat\n",
      "9,Carla,8.2,T2,Mat\n",
      "10,Pablo,10,T2,Mat\n",
      "11,Pedro,6.2,T2,Mat\n",
      "12,Emerson,2.1,T2,Mat\n",
      "13,Iury,9.2,T1,Port\n",
      "14,Davi,8.4,T1,Port\n",
      "15,Vini,7.8,T1,Port\n",
      "16,Carol,4.3,T1,Port\n",
      "17,Helena,6.2,T1,Port\n",
      "18,Michel,9.5,T2,Port\n",
      "19,Fernando,2.5,T2,Port\n",
      "20,Gabriel,9.0,T2,Port\n",
      "21,Carla,10,T2,Port\n",
      "22,Pablo,8.5,T2,Port\n",
      "23,Pedro,7.5,T2,Port\n",
      "24,Emerson,9.2,T2,Port\n"
     ]
    },
    {
     "data": {
      "text/plain": [
       "<apache_beam.runners.portability.fn_api_runner.fn_runner.RunnerResult at 0x1847526c5d0>"
      ]
     },
     "execution_count": 12,
     "metadata": {},
     "output_type": "execute_result"
    }
   ],
   "source": [
    "list_files = [\"data_sample.txt\", \"data_sample.txt\"]\n",
    "p = beam.Pipeline()\n",
    "p | beam.Create(list_files) | beam.io.ReadAllFromText() | beam.Map(print)\n",
    "p.run()"
   ]
  },
  {
   "attachments": {},
   "cell_type": "markdown",
   "metadata": {},
   "source": [
    "Transformações de gravação gravam os dados em uma PCollection em uma fonte de dados externa. Você usará, com mais frequência, transformações de gravação no final do seu pipeline para gerar os resultados finais do seu pipeline. No entanto, você pode usar uma transformação de gravação para gerar os dados de uma PCollection em qualquer ponto do seu pipeline."
   ]
  },
  {
   "cell_type": "code",
   "execution_count": 17,
   "metadata": {},
   "outputs": [
    {
     "data": {
      "text/plain": [
       "<apache_beam.runners.portability.fn_api_runner.fn_runner.RunnerResult at 0x18475644390>"
      ]
     },
     "execution_count": 17,
     "metadata": {},
     "output_type": "execute_result"
    }
   ],
   "source": [
    "p = beam.Pipeline()\n",
    "\n",
    "p | beam.io.ReadFromText(\"data_sample.txt\") | beam.Map(lambda record: record.split(\",\")) | beam.io.WriteToText(\"output\", file_name_suffix=\".txt\", max_records_per_shard=4)\n",
    "\n",
    "p.run()"
   ]
  },
  {
   "attachments": {},
   "cell_type": "markdown",
   "metadata": {},
   "source": [
    "## Funções Básicas de Transformação"
   ]
  },
  {
   "attachments": {},
   "cell_type": "markdown",
   "metadata": {},
   "source": [
    "### FlatMap"
   ]
  },
  {
   "attachments": {},
   "cell_type": "markdown",
   "metadata": {},
   "source": [
    "**apache_beam.transforms.core.FlatMap(fn=<function identity>, \\*args, \\*\\*kwargs)**\n",
    "\n",
    "The callable must return an iterable for each element of the input PCollection. The elements of these iterables will be flattened into the output PCollection. If no callable is given, then all elements of the input PCollection must already be iterables themselves and will be flattened into the output PCollection.\n",
    "\n",
    "**Parameters:**\t\n",
    "- fn (callable) – a callable object.\n",
    "- *args – positional arguments passed to the transform callable.\n",
    "- **kwargs – keyword arguments passed to the transform callable.\n",
    "\n",
    "**Returns:**\t\n",
    "\n",
    "A PCollection containing the FlatMap() outputs.\n",
    "\n",
    "**Return type:**\t\n",
    "\n",
    "PCollection\n",
    "\n",
    "**Raises:**\n",
    "\n",
    "TypeError – If the fn passed as argument is not a callable. Typical error is to pass a DoFn instance which is supported only for ParDo.\n",
    "\n",
    "https://beam.apache.org/releases/pydoc/current/apache_beam.transforms.core.html#apache_beam.transforms.core.FlatMap"
   ]
  },
  {
   "cell_type": "code",
   "execution_count": 18,
   "metadata": {},
   "outputs": [
    {
     "name": "stdout",
     "output_type": "stream",
     "text": [
      "ID\n",
      "Nome\n",
      "Nota\n",
      "Turma\n",
      "Disciplina\n",
      "1\n",
      "Iury\n",
      "10\n",
      "T1\n",
      "Mat\n",
      "2\n",
      "Davi\n",
      "8\n",
      "T1\n",
      "Mat\n",
      "3\n",
      "Vini\n",
      "6.7\n",
      "T1\n",
      "Mat\n",
      "4\n",
      "Carol\n",
      "5.4\n",
      "T1\n",
      "Mat\n",
      "5\n",
      "Helena\n",
      "7.8\n",
      "T1\n",
      "Mat\n",
      "6\n",
      "Michel\n",
      "7.7\n",
      "T2\n",
      "Mat\n",
      "7\n",
      "Fernando\n",
      "5.2\n",
      "T2\n",
      "Mat\n",
      "8\n",
      "Gabriel\n",
      "8.9\n",
      "T2\n",
      "Mat\n",
      "9\n",
      "Carla\n",
      "8.2\n",
      "T2\n",
      "Mat\n",
      "10\n",
      "Pablo\n",
      "10\n",
      "T2\n",
      "Mat\n",
      "11\n",
      "Pedro\n",
      "6.2\n",
      "T2\n",
      "Mat\n",
      "12\n",
      "Emerson\n",
      "2.1\n",
      "T2\n",
      "Mat\n",
      "13\n",
      "Iury\n",
      "9.2\n",
      "T1\n",
      "Port\n",
      "14\n",
      "Davi\n",
      "8.4\n",
      "T1\n",
      "Port\n",
      "15\n",
      "Vini\n",
      "7.8\n",
      "T1\n",
      "Port\n",
      "16\n",
      "Carol\n",
      "4.3\n",
      "T1\n",
      "Port\n",
      "17\n",
      "Helena\n",
      "6.2\n",
      "T1\n",
      "Port\n",
      "18\n",
      "Michel\n",
      "9.5\n",
      "T2\n",
      "Port\n",
      "19\n",
      "Fernando\n",
      "2.5\n",
      "T2\n",
      "Port\n",
      "20\n",
      "Gabriel\n",
      "9.0\n",
      "T2\n",
      "Port\n",
      "21\n",
      "Carla\n",
      "10\n",
      "T2\n",
      "Port\n",
      "22\n",
      "Pablo\n",
      "8.5\n",
      "T2\n",
      "Port\n",
      "23\n",
      "Pedro\n",
      "7.5\n",
      "T2\n",
      "Port\n",
      "24\n",
      "Emerson\n",
      "9.2\n",
      "T2\n",
      "Port\n"
     ]
    },
    {
     "data": {
      "text/plain": [
       "<apache_beam.runners.portability.fn_api_runner.fn_runner.RunnerResult at 0x279e8947810>"
      ]
     },
     "execution_count": 18,
     "metadata": {},
     "output_type": "execute_result"
    }
   ],
   "source": [
    "import apache_beam as beam\n",
    "\n",
    "p1 = beam.Pipeline()\n",
    "\n",
    "def pick_elements(record, char_split=\",\"):\n",
    "    return record.split(char_split)\n",
    "\n",
    "flat_map = (\n",
    "    p1\n",
    "    | beam.io.ReadFromText(\"data_sample.txt\")\n",
    "    | beam.FlatMap(pick_elements, char_split=\",\")\n",
    "    # |beam.FlatMap(lambda record: record.split(\",\"))\n",
    "    | beam.FlatMap(print)\n",
    ")\n",
    "\n",
    "p1.run()"
   ]
  },
  {
   "attachments": {},
   "cell_type": "markdown",
   "metadata": {},
   "source": [
    "### Map"
   ]
  },
  {
   "attachments": {},
   "cell_type": "markdown",
   "metadata": {},
   "source": [
    "**apache_beam.transforms.core.Map(fn, \\*args, \\*\\*kwargs)[source]**\n",
    "\n",
    "Map() is like FlatMap() except its callable returns only a single element.\n",
    "\n",
    "**Parameters:**\t\n",
    "- fn (callable) – a callable object.\n",
    "- *args – positional arguments passed to the transform callable.\n",
    "- **kwargs – keyword arguments passed to the transform callable.\n",
    "\n",
    "**Returns:**\t\n",
    "\n",
    "A PCollection containing the Map() outputs.\n",
    "\n",
    "**Return type:**\n",
    "\n",
    "PCollection\n",
    "\n",
    "**Raises:**\t\n",
    "\n",
    "TypeError – If the fn passed as argument is not a callable. Typical error is to pass a DoFn instance which is supported only for ParDo.\n",
    "\n",
    "https://beam.apache.org/releases/pydoc/current/apache_beam.transforms.core.html#apache_beam.transforms.core.Map"
   ]
  },
  {
   "cell_type": "code",
   "execution_count": 20,
   "metadata": {},
   "outputs": [
    {
     "name": "stdout",
     "output_type": "stream",
     "text": [
      "['ID', 'Nome', 'Nota', 'Turma', 'Disciplina']\n",
      "['1', 'Iury', '10', 'T1', 'Mat']\n",
      "['2', 'Davi', '8', 'T1', 'Mat']\n",
      "['3', 'Vini', '6.7', 'T1', 'Mat']\n",
      "['4', 'Carol', '5.4', 'T1', 'Mat']\n",
      "['5', 'Helena', '7.8', 'T1', 'Mat']\n",
      "['6', 'Michel', '7.7', 'T2', 'Mat']\n",
      "['7', 'Fernando', '5.2', 'T2', 'Mat']\n",
      "['8', 'Gabriel', '8.9', 'T2', 'Mat']\n",
      "['9', 'Carla', '8.2', 'T2', 'Mat']\n",
      "['10', 'Pablo', '10', 'T2', 'Mat']\n",
      "['11', 'Pedro', '6.2', 'T2', 'Mat']\n",
      "['12', 'Emerson', '2.1', 'T2', 'Mat']\n",
      "['13', 'Iury', '9.2', 'T1', 'Port']\n",
      "['14', 'Davi', '8.4', 'T1', 'Port']\n",
      "['15', 'Vini', '7.8', 'T1', 'Port']\n",
      "['16', 'Carol', '4.3', 'T1', 'Port']\n",
      "['17', 'Helena', '6.2', 'T1', 'Port']\n",
      "['18', 'Michel', '9.5', 'T2', 'Port']\n",
      "['19', 'Fernando', '2.5', 'T2', 'Port']\n",
      "['20', 'Gabriel', '9.0', 'T2', 'Port']\n",
      "['21', 'Carla', '10', 'T2', 'Port']\n",
      "['22', 'Pablo', '8.5', 'T2', 'Port']\n",
      "['23', 'Pedro', '7.5', 'T2', 'Port']\n",
      "['24', 'Emerson', '9.2', 'T2', 'Port']\n"
     ]
    },
    {
     "data": {
      "text/plain": [
       "<apache_beam.runners.portability.fn_api_runner.fn_runner.RunnerResult at 0x279e8499890>"
      ]
     },
     "execution_count": 20,
     "metadata": {},
     "output_type": "execute_result"
    }
   ],
   "source": [
    "import apache_beam as beam\n",
    "\n",
    "p1 = beam.Pipeline()\n",
    "\n",
    "map_object = (\n",
    "    p1\n",
    "    | beam.io.ReadFromText(\"data_sample.txt\")\n",
    "    | beam.Map(lambda record: record.split(\",\"))\n",
    "    | beam.Map(print)\n",
    ")\n",
    "\n",
    "p1.run()"
   ]
  },
  {
   "attachments": {},
   "cell_type": "markdown",
   "metadata": {},
   "source": [
    "### Filter"
   ]
  },
  {
   "attachments": {},
   "cell_type": "markdown",
   "metadata": {},
   "source": [
    "**apache_beam.transforms.core.Filter(fn, \\*args, \\*\\*kwargs)**\n",
    "\n",
    "Filter() is a FlatMap() with its callable filtering out elements.\n",
    "\n",
    "Filter accepts a function that keeps elements that return True, and filters out the remaining elements.\n",
    "\n",
    "**Parameters:**\t\n",
    "- fn (Callable[..., bool]) – a callable object. First argument will be an element.\n",
    "- *args – positional arguments passed to the transform callable.\n",
    "- **kwargs – keyword arguments passed to the transform callable.\n",
    "\n",
    "**Returns:**\t\n",
    "\n",
    "A PCollection containing the Filter() outputs.\n",
    "\n",
    "**Return type:**\t\n",
    "\n",
    "PCollection\n",
    "\n",
    "**Raises:**\t\n",
    "\n",
    "TypeError – If the fn passed as argument is not a callable. Typical error is to pass a DoFn instance which is supported only for ParDo.\n",
    "\n",
    "https://beam.apache.org/releases/pydoc/current/apache_beam.transforms.core.html#apache_beam.transforms.core.Map"
   ]
  },
  {
   "cell_type": "code",
   "execution_count": 24,
   "metadata": {},
   "outputs": [
    {
     "name": "stdout",
     "output_type": "stream",
     "text": [
      "['1', 'Iury', '10', 'T1', 'Mat']\n",
      "['2', 'Davi', '8', 'T1', 'Mat']\n",
      "['3', 'Vini', '6.7', 'T1', 'Mat']\n",
      "['4', 'Carol', '5.4', 'T1', 'Mat']\n",
      "['5', 'Helena', '7.8', 'T1', 'Mat']\n",
      "['13', 'Iury', '9.2', 'T1', 'Port']\n",
      "['14', 'Davi', '8.4', 'T1', 'Port']\n",
      "['15', 'Vini', '7.8', 'T1', 'Port']\n",
      "['16', 'Carol', '4.3', 'T1', 'Port']\n",
      "['17', 'Helena', '6.2', 'T1', 'Port']\n"
     ]
    },
    {
     "data": {
      "text/plain": [
       "<apache_beam.runners.portability.fn_api_runner.fn_runner.RunnerResult at 0x279e8e07890>"
      ]
     },
     "execution_count": 24,
     "metadata": {},
     "output_type": "execute_result"
    }
   ],
   "source": [
    "import apache_beam as beam\n",
    "\n",
    "p1 = beam.Pipeline()\n",
    "\n",
    "filter_object = (\n",
    "    p1\n",
    "    | beam.io.ReadFromText(\"data_sample.txt\")\n",
    "    | beam.Map(lambda record: record.split(\",\"))\n",
    "    | beam.Filter(lambda record: record[3] == \"T1\")\n",
    "    | beam.Map(print)\n",
    ")\n",
    "\n",
    "p1.run()"
   ]
  },
  {
   "attachments": {},
   "cell_type": "markdown",
   "metadata": {},
   "source": [
    "### CombinePerKey"
   ]
  },
  {
   "attachments": {},
   "cell_type": "markdown",
   "metadata": {},
   "source": [
    "**apache_beam.transforms.core.CombinePerKey(fn, \\*args, \\*\\*kwargs)**\n",
    "\n",
    "A per-key Combine transform.\n",
    "\n",
    "Identifies sets of values associated with the same key in the input PCollection, then applies a CombineFn to condense those sets to single values. See documentation in CombineFn for details on the specifics on how CombineFns are applied.\n",
    "\n",
    "**Parameters:**\t\n",
    "- fn – instance of CombineFn to apply to all values under the same key in pcoll, or a callable whose signature is f(iterable, *args, **kwargs) (e.g., sum, max).\n",
    "- *args – arguments and side inputs, passed directly to the CombineFn.\n",
    "- **kwargs – arguments and side inputs, passed directly to the CombineFn.\n",
    "\n",
    "**Returns:**\t\n",
    "\n",
    "A PObject holding the result of the combine operation.\n",
    "\n",
    "https://beam.apache.org/releases/pydoc/current/apache_beam.transforms.core.html#apache_beam.transforms.core.CombinePerKey"
   ]
  },
  {
   "cell_type": "code",
   "execution_count": 31,
   "metadata": {},
   "outputs": [
    {
     "name": "stdout",
     "output_type": "stream",
     "text": [
      "('Turma', 1)\n",
      "('T1', 10)\n",
      "('T2', 14)\n"
     ]
    },
    {
     "data": {
      "text/plain": [
       "<apache_beam.runners.portability.fn_api_runner.fn_runner.RunnerResult at 0x279e8b5dd50>"
      ]
     },
     "execution_count": 31,
     "metadata": {},
     "output_type": "execute_result"
    }
   ],
   "source": [
    "import apache_beam as beam\n",
    "\n",
    "p1 = beam.Pipeline()\n",
    "\n",
    "combine_per_key = (\n",
    "    p1\n",
    "    | beam.io.ReadFromText(\"data_sample.txt\")\n",
    "    | beam.Map(lambda record: record.split(\",\"))\n",
    "    | beam.Map(lambda record: (record[3] + \"-\" + record[4], 1))\n",
    "    | beam.CombinePerKey(sum)\n",
    "    | beam.Map(print)\n",
    ")\n",
    "\n",
    "p1.run()"
   ]
  },
  {
   "attachments": {},
   "cell_type": "markdown",
   "metadata": {},
   "source": [
    "## Construindo Pipelines com Fluxos"
   ]
  },
  {
   "cell_type": "code",
   "execution_count": 5,
   "metadata": {},
   "outputs": [
    {
     "name": "stdout",
     "output_type": "stream",
     "text": [
      "('T1', 73.8)\n",
      "('T2', 104.50000000000001)\n",
      "('T1', 10.0)\n",
      "('T2', 10.0)\n"
     ]
    },
    {
     "data": {
      "text/plain": [
       "<apache_beam.runners.portability.fn_api_runner.fn_runner.RunnerResult at 0x2428b720e50>"
      ]
     },
     "execution_count": 5,
     "metadata": {},
     "output_type": "execute_result"
    }
   ],
   "source": [
    "import apache_beam as beam\n",
    "\n",
    "p1 = beam.Pipeline()\n",
    "\n",
    "input_pcollection = (\n",
    "    p1\n",
    "    | beam.io.ReadFromText(\"data_sample.txt\")\n",
    "    | beam.Map(lambda record: record.split(\",\"))\n",
    "    | beam.Filter(lambda record: record[0] != \"ID\")\n",
    "    | \"Organiza Notas\" >> beam.Map(lambda record: (record[3], float(record[2])))\n",
    ")\n",
    "\n",
    "sum_grades = (\n",
    "    input_pcollection\n",
    "    | \"Soma das Notas\" >> beam.CombinePerKey(sum)\n",
    "    | \"Exibe a Soma\" >> beam.Map(print)\n",
    ")\n",
    "\n",
    "max_grades = (\n",
    "    input_pcollection\n",
    "    | \"Maior Nota\" >> beam.CombinePerKey(max)\n",
    "    | \"Exibe a Maior\" >> beam.Map(print)\n",
    ")\n",
    "\n",
    "p1.run()"
   ]
  },
  {
   "attachments": {},
   "cell_type": "markdown",
   "metadata": {},
   "source": [
    "**apache_beam.transforms.core.Flatten(\\*\\*kwargs)**\n",
    "\n",
    "Merges several PCollections into a single PCollection.\n",
    "\n",
    "Copies all elements in 0 or more PCollections into a single output PCollection. If there are no input PCollections, the resulting PCollection will be empty (but see also kwargs below).\n",
    "\n",
    "**Parameters:**\t\n",
    "- **kwargs – Accepts a single named argument “pipeline”, which specifies the pipeline that “owns” this PTransform. Ordinarily Flatten can obtain this information from one of the input PCollections, but if there are none (or if there’s a chance there may be none), this argument is the only way to provide pipeline information and should be considered mandatory."
   ]
  },
  {
   "cell_type": "code",
   "execution_count": 6,
   "metadata": {},
   "outputs": [
    {
     "name": "stdout",
     "output_type": "stream",
     "text": [
      "('T1', 73.8)\n",
      "('T2', 104.50000000000001)\n",
      "('T1', 10.0)\n",
      "('T2', 10.0)\n"
     ]
    },
    {
     "data": {
      "text/plain": [
       "<apache_beam.runners.portability.fn_api_runner.fn_runner.RunnerResult at 0x242894dc7d0>"
      ]
     },
     "execution_count": 6,
     "metadata": {},
     "output_type": "execute_result"
    }
   ],
   "source": [
    "import apache_beam as beam\n",
    "\n",
    "p1 = beam.Pipeline()\n",
    "\n",
    "input_pcollection = (\n",
    "    p1\n",
    "    | beam.io.ReadFromText(\"data_sample.txt\")\n",
    "    | beam.Map(lambda record: record.split(\",\"))\n",
    "    | beam.Filter(lambda record: record[0] != \"ID\")\n",
    "    | \"Organiza Notas\" >> beam.Map(lambda record: (record[3], float(record[2])))\n",
    ")\n",
    "\n",
    "sum_grades = (\n",
    "    input_pcollection\n",
    "    | \"Soma das Notas\" >> beam.CombinePerKey(sum)\n",
    ")\n",
    "\n",
    "max_grades = (\n",
    "    input_pcollection\n",
    "    | \"Maior Nota\" >> beam.CombinePerKey(max)\n",
    ")\n",
    "\n",
    "output_pcollection = (\n",
    "    (sum_grades, max_grades)\n",
    "    |beam.Flatten()\n",
    "    |beam.Map(print) \n",
    ")\n",
    "\n",
    "p1.run()"
   ]
  },
  {
   "cell_type": "code",
   "execution_count": null,
   "metadata": {},
   "outputs": [],
   "source": []
  }
 ],
 "metadata": {
  "kernelspec": {
   "display_name": "Python 3",
   "language": "python",
   "name": "python3"
  },
  "language_info": {
   "codemirror_mode": {
    "name": "ipython",
    "version": 3
   },
   "file_extension": ".py",
   "mimetype": "text/x-python",
   "name": "python",
   "nbconvert_exporter": "python",
   "pygments_lexer": "ipython3",
   "version": "3.11.9"
  },
  "orig_nbformat": 4
 },
 "nbformat": 4,
 "nbformat_minor": 2
}
